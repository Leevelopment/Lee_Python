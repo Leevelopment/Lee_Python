{
 "cells": [
  {
   "cell_type": "code",
   "execution_count": 11,
   "id": "c101cfa1-356c-48ff-833d-8d081b74882d",
   "metadata": {},
   "outputs": [],
   "source": [
    "### 입출력과 사칙연산 ###"
   ]
  },
  {
   "cell_type": "code",
   "execution_count": 10,
   "id": "b2fc1b8c-69ef-491c-bea8-5b35b11dcc9f",
   "metadata": {},
   "outputs": [
    {
     "name": "stdout",
     "output_type": "stream",
     "text": [
      "Hello World!\n"
     ]
    }
   ],
   "source": [
    "## Hello World!를 출력하시오.\n",
    "# 입력 : X\n",
    "# 출력 : Hello World!를 출력하시오.\n",
    "print(\"Hello World!\")"
   ]
  },
  {
   "cell_type": "code",
   "execution_count": 5,
   "id": "6dbec308-cef5-4132-b247-bc1b38921389",
   "metadata": {},
   "outputs": [
    {
     "name": "stdin",
     "output_type": "stream",
     "text": [
      " 1 2\n"
     ]
    },
    {
     "name": "stdout",
     "output_type": "stream",
     "text": [
      "3\n"
     ]
    }
   ],
   "source": [
    "## 두 정수 A와 B를 입력받은 다음, A+B를 출력하는 프로그램을 작성하시오.\n",
    "# 입력 : 첫째 줄에 A와 B가 주어진다. (0 < A, B < 10)\n",
    "# 출력 : 첫째 줄에 A+B를 출력한다.\n",
    "A,B = input().split()\n",
    "print(int(A) + int(B))"
   ]
  },
  {
   "cell_type": "code",
   "execution_count": 8,
   "id": "7d9365f4-658d-4a5a-8071-22e88ba3c640",
   "metadata": {},
   "outputs": [
    {
     "name": "stdin",
     "output_type": "stream",
     "text": [
      " 3 2\n"
     ]
    },
    {
     "name": "stdout",
     "output_type": "stream",
     "text": [
      "1\n"
     ]
    }
   ],
   "source": [
    "## 두 정수 A와 B를 입력받은 다음, A-B를 출력하는 프로그램을 작성하시오.\n",
    "# 입력 : 첫째 줄에 A와 B가 주어진다. (0 < A, B < 10)\n",
    "# 출력 : 첫째 줄에 A-B를 출력한다.\n",
    "A,B = input().split()\n",
    "print(int(A) - int(B))"
   ]
  },
  {
   "cell_type": "code",
   "execution_count": 9,
   "id": "4d5c8161-d359-4159-a48c-0c0c2a166f7b",
   "metadata": {},
   "outputs": [
    {
     "name": "stdin",
     "output_type": "stream",
     "text": [
      " 3 4\n"
     ]
    },
    {
     "name": "stdout",
     "output_type": "stream",
     "text": [
      "12\n"
     ]
    }
   ],
   "source": [
    "## 두 정수 A와 B를 입력받은 다음, AXB를 출력하는 프로그램을 작성하시오.\n",
    "# 입력 : 첫째 줄에 A와 B가 주어진다. (0 < A, B < 10)\n",
    "# 출력 : 첫째 줄에 AXB를 출력한다.\n",
    "A,B = input().split()\n",
    "print(int(A) * int(B))"
   ]
  },
  {
   "cell_type": "code",
   "execution_count": 13,
   "id": "349aaaaa-0ba2-4c5c-b491-d0b295faafb6",
   "metadata": {},
   "outputs": [
    {
     "name": "stdin",
     "output_type": "stream",
     "text": [
      " 1 3\n"
     ]
    },
    {
     "name": "stdout",
     "output_type": "stream",
     "text": [
      "0.3333333333333333\n"
     ]
    }
   ],
   "source": [
    "## 두 정수 A와 B를 입력받은 다음, A/B를 출력하는 프로그램을 작성하시오.\n",
    "# 입력 : 첫째 줄에 A와 B가 주어진다. (0 < A, B < 10)\n",
    "# 출력 : 첫째 줄에 A/B를 출력한다. 실제 정답과 출력값의 절대오차 또는 상대오차가 10의-9승 이하이면 정답이다.\n",
    "A,B = input().split()\n",
    "print(float(A) / float(B))\n",
    "\n",
    "# 나눗셈은 되도록 float으로 사용\n",
    "# 반올림의 경우, round(A/B, 9) 처럼 표현"
   ]
  },
  {
   "cell_type": "code",
   "execution_count": 17,
   "id": "e30a5cdb-560c-42f8-9701-ec7a13f331fe",
   "metadata": {},
   "outputs": [
    {
     "name": "stdin",
     "output_type": "stream",
     "text": [
      " 7 3\n"
     ]
    },
    {
     "name": "stdout",
     "output_type": "stream",
     "text": [
      "10\n",
      "4\n",
      "21\n",
      "2.0\n",
      "1.0\n"
     ]
    }
   ],
   "source": [
    "## 두 자연수 A와 B가 주어진다. 이때, A+B, A-B, A*B, A/B(몫), A%B(나머지)를 출력하는 프로그램을 작성하시오.\n",
    "# 입력 : 두 자연수 A와 B가 주어진다. (1 <= A, B <= 10,000)\n",
    "# 출력 : 첫째 줄에 A+B, 둘째 줄에 A-B, 셋째 줄에 A*B, 넷째 줄에 A/B, 다섯째 줄에 A%B를 출력한다.\n",
    "A,B = input().split()\n",
    "print(int(A) + int(B))\n",
    "print(int(A) - int(B))\n",
    "print(int(A) * int(B))\n",
    "print(round(float(A) / float(B), 0))\n",
    "print(float(A) % float(B))\n",
    "\n",
    "# 나누기 소수점 제외 -> round사용\n",
    "# 출력과 같이 표현하려면 float말고 int로 사용하면 됨(단, 나누기 부분은 전체부분의 int)"
   ]
  },
  {
   "cell_type": "code",
   "execution_count": 19,
   "id": "e43945b0-22bb-4b03-b4fd-be05528ac27d",
   "metadata": {},
   "outputs": [
    {
     "name": "stdin",
     "output_type": "stream",
     "text": [
      " joonas\n"
     ]
    },
    {
     "name": "stdout",
     "output_type": "stream",
     "text": [
      "joonas??!\n"
     ]
    }
   ],
   "source": [
    "## 준하는 사이트에 회원가입을 하다가 joonas라는 아이디가 이미 존재하는 것을 보고 놀랐다. 준하는 놀람을 ??!로 표현한다. 준하가 가입하려고 하는 사이트에 이미 존재하는 아이디가 주어졌을 때, 놀람을 표현하는 프로그램을 작성하시오.\n",
    "# 입력 : 첫째 줄에 준하가 가입하려고 하는 사이트에 이미 존재하는 아이디가 주어지낟, 아이디는 알파벳 소문자로만 이루어져 있으며, 길이는 50자를 넘지 않는다.\n",
    "# 출력 : 첫째 줄에 준하의 놀람을 출력한다. 놀람은 아이디 뒤에 ??!를 붙여서 나타낸다.\n",
    "name = input()\n",
    "print(f\"{name}??!\")\n",
    "\n",
    "# print(input() + \"??!\")와 같이 한줄에 가능"
   ]
  },
  {
   "cell_type": "code",
   "execution_count": 22,
   "id": "b4992f14-03b9-4390-bde1-1c8c8e825e6a",
   "metadata": {},
   "outputs": [
    {
     "name": "stdin",
     "output_type": "stream",
     "text": [
      " 2541\n"
     ]
    },
    {
     "name": "stdout",
     "output_type": "stream",
     "text": [
      "1998\n"
     ]
    }
   ],
   "source": [
    "## 불기 연도 2562년을 서기 연도로 바꿔주는 프로그램을 작성하시오.\n",
    "# 입력 : 서기 연도를 알아보고 싶은 불기 연도 y가 주어진다. (1000 <= y <= 3000)\n",
    "# 출력 : 불기 연도를 서기 연도로 변환한 결과를 출력한다.\n",
    "year = int(input())\n",
    "print(year - 543)\n",
    "\n",
    "# 입력, 출력 값들을 확인하고 차이를 알아내면 된다"
   ]
  },
  {
   "cell_type": "code",
   "execution_count": 25,
   "id": "05873565-f45e-43a8-875b-3fcbc899c222",
   "metadata": {},
   "outputs": [
    {
     "name": "stdin",
     "output_type": "stream",
     "text": [
      " 0 1 2 2 2 7\n"
     ]
    },
    {
     "name": "stdout",
     "output_type": "stream",
     "text": [
      "1 0 0 0 0 1 "
     ]
    }
   ],
   "source": [
    "## 체스는 총 16개의 피스를 사용하며, 킹 1개, 퀸 1개, 룩 2개, 비숍 2개, 나이트 2개, 폰 8개로 구성되어 있다. 흰색 피스의 개수가 주어졌을 때, 몇 개를 더하거나 빼야 올바른 세트가 되는지 구하는 프로그램을 작성하시오.\n",
    "# 입력 : 첫째 줄에 찾은 흰색 킹, 퀸, 룩, 비숍, 나이트, 폰의 개수가 주어진다. 이 값은 0보다 크거나 같고 10보다 작거나 같은 정수이다.\n",
    "# 출력 : 첫째 줄에 입력에서 주어진 순서대로 몇 개의 피스를 더하거나 빼야 되는지를 출력한다. 만약 수가 양수라면 그 개수 만큼 피스를 더해야 하는 것이고, 음수라면 제거해야 하는 것이다.\n",
    "\n",
    "# 우선 전체 체스 말 수를 입력할 변수가 필요하다.\n",
    "# 그 다음 입력받은 말의 개수에 따라 차감 또는 증가해주어야 한다.\n",
    "# 각 결과를 띄어쓰기로 표현\n",
    "\n",
    "chess = [1, 1, 2, 2, 2, 8] # 받을 때 리스트로 받는다\n",
    "x_chess = list(map(int, input().split())) # 많이 쓰는 방법 -> 입력받은 여러 숫자를 정수형으로 리스트에 담는다\n",
    "\n",
    "for i in range(6):\n",
    "    print(chess[i] - x_chess[i], end=\" \") # 전체 말의 개수에서 입력받은 말의 개수 차감"
   ]
  },
  {
   "cell_type": "code",
   "execution_count": 28,
   "id": "de6b34be-9e35-4d40-9dc1-110460abc47d",
   "metadata": {
    "tags": []
   },
   "outputs": [
    {
     "name": "stdin",
     "output_type": "stream",
     "text": [
      " 5 8 4\n"
     ]
    },
    {
     "name": "stdout",
     "output_type": "stream",
     "text": [
      "1\n",
      "1\n",
      "0\n",
      "0\n"
     ]
    }
   ],
   "source": [
    "## (A+B) % C는 ((A%C) + (B%C)) % C와 같을까?\n",
    "## (AXB) % C는 ((A%C) X (B%C)) % C와 같을까?\n",
    "## 세 수 A,B,C가 주어졌을 때, 위의 네 가지 값을 구하는 프로그램을 작성하시오.\n",
    "# 입력 : 첫쨰 줄에 A,B,C가 순서대로 주어진다. (2 <= A, B, C <= 10000)\n",
    "# 출력 : 첫째 줄에 (A+B) % C, 둘째 줄에, ((A%C) + (B%C)) % C, 셋쨰 줄에 (AXB) % C, 넷째 줄에 ((A%C) X (B%C)) % C를 출력한다.\n",
    "A,B,C = map(int,input().split())\n",
    "print((A+B) % C)\n",
    "print(((A%C) + (B%C)) % C)\n",
    "print((A*B) % C)\n",
    "print(((A%C) * (B%C)) % C)\n",
    "\n",
    "# map(int, input().split()) 많이 사용"
   ]
  },
  {
   "cell_type": "code",
   "execution_count": 30,
   "id": "7e937870-cd0f-4438-a62c-114ff16984de",
   "metadata": {},
   "outputs": [
    {
     "name": "stdin",
     "output_type": "stream",
     "text": [
      " 472\n",
      " 385\n"
     ]
    },
    {
     "name": "stdout",
     "output_type": "stream",
     "text": [
      "2360\n",
      "3776\n",
      "1416\n",
      "181720\n"
     ]
    }
   ],
   "source": [
    "## (그림참고) (1)과 (2)위치에 들어갈 세 자리 자연수가 주어질 때 (3), (4), (5), (6) 위치에 들어갈 값을 구하는 프로그램을 작성하시오.\n",
    "# 입력 : 첫째 줄에 (1)의 위치에 들어갈 세 자리 자연수가, 둘째 줄에 (2)의 위치에 들어갈 세자리 자연수가 주어진다.\n",
    "# 출력 : 첫째 줄부터 넷째 줄까지 차례대로 (3),(4),(5),(6)에 들어갈 값을 출력한다.\n",
    "\n",
    "# 각 자리 숫자의 곱으로 이루어져야 한다.\n",
    "# 첫번쨰 숫자는 정수형, 두번쨰 숫자는 문자열 그대로 받은 후, 인덱스를 활용하여 백의 자리수, 십의 자리수, 일의 자리수를 각각 곱하여준다.\n",
    "# 인덱스 값은 문자형이므로, 정수형으로 만든 후 곱해주어야 한다.\n",
    "\n",
    "num1 = int(input())\n",
    "num2 = input()\n",
    "\n",
    "print(num1 * int(num2[2]))\n",
    "print(num1 * int(num2[1]))\n",
    "print(num1 * int(num2[0]))\n",
    "print(num1 * int(num2))"
   ]
  },
  {
   "cell_type": "code",
   "execution_count": 32,
   "id": "9ba138b2-8b61-4700-af49-538c787562a9",
   "metadata": {},
   "outputs": [
    {
     "name": "stdout",
     "output_type": "stream",
     "text": [
      "\\   /\\\n",
      " )  ( ')\n",
      "(  /  )\n",
      " \\(__)|\n"
     ]
    }
   ],
   "source": [
    "## 아래 예제와 같이 고양이를 출력하시오.\n",
    "# 입력 : X\n",
    "# 출력 : 고양이를 출력한다.\n",
    "\n",
    "# \\ 출력할 때는 \\\\ 사용해야 표현된다.\n",
    "\n",
    "print(\"\\\\   /\\\\\")\n",
    "print(\" )  ( ')\")\n",
    "print(\"(  /  )\")\n",
    "print(\" \\\\(__)|\")"
   ]
  }
 ],
 "metadata": {
  "kernelspec": {
   "display_name": "Python 3 (ipykernel)",
   "language": "python",
   "name": "python3"
  },
  "language_info": {
   "codemirror_mode": {
    "name": "ipython",
    "version": 3
   },
   "file_extension": ".py",
   "mimetype": "text/x-python",
   "name": "python",
   "nbconvert_exporter": "python",
   "pygments_lexer": "ipython3",
   "version": "3.9.12"
  }
 },
 "nbformat": 4,
 "nbformat_minor": 5
}
