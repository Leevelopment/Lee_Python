{
 "cells": [
  {
   "cell_type": "code",
   "execution_count": 4,
   "id": "8f914505-d8d7-4c4f-a313-834b7200eae7",
   "metadata": {},
   "outputs": [
    {
     "name": "stdout",
     "output_type": "stream",
     "text": [
      "|\\_/|\n",
      "|q p|   /}\n",
      "( 0 )\"\"\"\\\n",
      "|\"^\"'    |\n",
      "||_/=\\\\__|\n"
     ]
    }
   ],
   "source": [
    "## 아래 예제와 같이 개를 출력하시오.\n",
    "# 입력 : X\n",
    "# 출력 : 개를 출력한다.\n",
    "\n",
    "# \" 사용하기 위해서는 \\\"로 표현해야 한다 -> ' 이것도 마찬가지\n",
    "# // 사용하기 위해서는 이스케이프 표현 / 한번만 사용하여 ///로 표현한다.\n",
    "\n",
    "print(\"|\\\\_/|\")\n",
    "print(\"|q p|   /}\")\n",
    "print(\"( 0 )\\\"\\\"\\\"\\\\\")\n",
    "print(\"|\\\"^\\\"\\'    |\")\n",
    "print(\"||_/=\\\\\\__|\")"
   ]
  },
  {
   "cell_type": "code",
   "execution_count": 8,
   "id": "ec302979-01ee-4048-8a4e-2f64831e15d4",
   "metadata": {},
   "outputs": [
    {
     "name": "stdout",
     "output_type": "stream",
     "text": [
      "         ,r'\"7\n",
      "r'-_   ,'  ,/\n",
      " \\. \". L_r'\n",
      "    '~\\/\n",
      "       |\n",
      "       |\n"
     ]
    }
   ],
   "source": [
    "## 아래 예제와 같이 새싹을 출력하시오.\n",
    "# 입력 : X\n",
    "# 출력 : 새싹을 출력한다.\n",
    "\n",
    "print(\"         ,r\\'\\\"7\")\n",
    "print(\"r\\'-_   ,\\'  ,/\")\n",
    "print(\" \\\\. \\\". L_r\\'\")\n",
    "print(\"    \\'~\\\\/\")\n",
    "print(\"       |\")\n",
    "print(\"       |\")"
   ]
  },
  {
   "cell_type": "code",
   "execution_count": 9,
   "id": "3c147fde-cee7-46b7-b136-cd1c39b94904",
   "metadata": {},
   "outputs": [],
   "source": [
    "### 조건문 ###"
   ]
  },
  {
   "cell_type": "code",
   "execution_count": 12,
   "id": "5737384e-54e7-4474-8244-1f0088ae9f7d",
   "metadata": {},
   "outputs": [
    {
     "name": "stdin",
     "output_type": "stream",
     "text": [
      " 5 5\n"
     ]
    },
    {
     "name": "stdout",
     "output_type": "stream",
     "text": [
      "==\n"
     ]
    }
   ],
   "source": [
    "## 두 정수 A와 B가 주어졌을 떄, A와 B를 비교하는 프로그램을 작성하시오.\n",
    "# 입력 : 첫째 줄에 A와 B가 주어진다. A와 B는 공백 한 칸으로 구분되어져 있다.\n",
    "# 출력 : 첫째 줄에 다음 세 가지 중 하나를 출력한다.\n",
    "# 1) A가 B보다 큰 경우에는 '>'를 출력한다.\n",
    "# 2) A가 B보다 작은 경우에는 '<'를 출력한다.\n",
    "# 3) A와 B가 같은 경우에는 '=='를 출력한다.\n",
    "# 제한 : -10,000 <= A, B <= 10,000\n",
    "\n",
    "A,B = map(int, input().split())\n",
    "if A > B:\n",
    "    print(\">\")\n",
    "elif A < B:\n",
    "    print(\"<\")\n",
    "else:\n",
    "    print(\"==\")"
   ]
  },
  {
   "cell_type": "code",
   "execution_count": 15,
   "id": "af60c60b-c217-4099-8307-015bf3bc8613",
   "metadata": {},
   "outputs": [
    {
     "name": "stdin",
     "output_type": "stream",
     "text": [
      " 100\n"
     ]
    },
    {
     "name": "stdout",
     "output_type": "stream",
     "text": [
      "A\n"
     ]
    }
   ],
   "source": [
    "## 시험 점수를 입력받아 90 ~ 100점은 A, 80 ~ 89점은 B, 70 ~ 79점은 C, 60 ~ 69점은 D, 나머지 점수는 F를 출력하는 프로그램을 작성하시오.\n",
    "# 입력 : 첫째 줄에 시험 점수가 주어진다. 시험 점수는 0보다 크거나 같고, 100보다 작거나 같은 정수이다.\n",
    "# 출력 : 시험 성적을 출력한다.\n",
    "\n",
    "score = int(input())\n",
    "\n",
    "if score >= 90:\n",
    "    print('A')\n",
    "elif score >= 80:\n",
    "    print('B')\n",
    "elif score >= 70:\n",
    "    print('C')\n",
    "elif score >= 60:\n",
    "    print('D')\n",
    "else:\n",
    "    print('F')"
   ]
  },
  {
   "cell_type": "code",
   "execution_count": 18,
   "id": "85db8b9b-32d7-4ce9-815e-479b3046dcb9",
   "metadata": {},
   "outputs": [
    {
     "name": "stdin",
     "output_type": "stream",
     "text": [
      " 1999\n"
     ]
    },
    {
     "name": "stdout",
     "output_type": "stream",
     "text": [
      "0\n"
     ]
    }
   ],
   "source": [
    "## 연도가 주어졌을 때, 윤년이면 1, 아니면 0을 출력하는 프로그램을 작성하시오. 윤년은 연도가 4의 배수이면서, 100의 배수가 아닐 때 또는 400의 배수일 때이다.\n",
    "# 입력 : 첫째 줄에 연도가 주어진다. 연도는 1보다 크거나 같고, 4000보다 작거나 같은 자연수이다.\n",
    "# 출력 : 첫째 줄에 윤년이면 1, 아니면 0을 출력한다.\n",
    "\n",
    "year = int(input())\n",
    "\n",
    "if (year%4 == 0 and year%100 != 0) or (year%400 == 0):\n",
    "    print(1)\n",
    "else:\n",
    "    print(0)"
   ]
  },
  {
   "cell_type": "code",
   "execution_count": 21,
   "id": "0e3936fb-4231-4682-82d3-97d785a82dd7",
   "metadata": {},
   "outputs": [
    {
     "name": "stdin",
     "output_type": "stream",
     "text": [
      " 9\n",
      " -13\n"
     ]
    },
    {
     "name": "stdout",
     "output_type": "stream",
     "text": [
      "4\n"
     ]
    }
   ],
   "source": [
    "## 흔한 수학 문제 중 하나는 주어진 점이 어느 사분면에 속하는지 알아내는 것이다. 점의 좌표를 입력받아 그 점이 어느 사분면에 속하는지 알아내는 프로그램을 작성하시오. 단, x좌표와 y좌표는 모두 양수나 음수라고 가정한다.\n",
    "# 입력 : 첫 줄에는 정수 x가 주어진다.(-1000 <= x <= 1000; x != 0) 다음 줄에는 정수 y가 주어진다.(-1000 <= y <= 1000; y!= 0)\n",
    "# 출력 : 점 (x,y)의 사분면 번호(1,2,3,4 중 하나)를 출력한다.\n",
    "\n",
    "x = int(input())\n",
    "y = int(input())\n",
    "\n",
    "if (x > 0) and (y > 0):\n",
    "    print(1)\n",
    "elif (x < 0) and (y > 0):\n",
    "    print(2)\n",
    "elif (x < 0) and ( y < 0):\n",
    "    print(3)\n",
    "else:\n",
    "    print(4)"
   ]
  },
  {
   "cell_type": "code",
   "execution_count": 24,
   "id": "bce52b1a-55fe-4393-8310-8c2b988a7f44",
   "metadata": {},
   "outputs": [
    {
     "name": "stdin",
     "output_type": "stream",
     "text": [
      " 0 30\n"
     ]
    },
    {
     "name": "stdout",
     "output_type": "stream",
     "text": [
      "23 45\n"
     ]
    }
   ],
   "source": [
    "## 일찍 일어나지 못하는 상근이를 위해 창영이는 \"45분 일찍 알람 설정하기\" 방법을 알려준다. 현재 상근이가 설정한 알람 시각이 주어졌을 떄, 창영이의 방법을 사용한다면, 이를 언제로 고쳐야 하는지 구하는 프로그램을 작성하시오.\n",
    "# 입력 : 첫째 줄에 두 정수 H와 M이 주어진다. (0 <= H <= 23, 0 <= M <= 59) 그리고 이것은 현재 상근이가 설정해 놓은 알람 시간 H시 M분을 의미한다. 입력 시간은 24시간 표현을 사용한다. 24시간 표현에서 하루의 시작은 0:0(자정)이고, 23:59(다음날 자정 1분 전)이다. 시간을 나타낼 때, 불필요한 0은 사용하지 않는다.\n",
    "# 출력 : 첫째 줄에 상근이가 창영이의 방법을 사용할 때, 설정해야 하는 알람 시간을 출력한다. (입력과 같은 형태로 출력하면 된다.)\n",
    "\n",
    "# H, M = map(int, input().split())\n",
    "\n",
    "# 45분 일찍 설정하는 것이므로 M이 44보다 크면 -45 그대로 출력한다.\n",
    "# 만약 M이 45보다 작고 H가 0이 아니라면 H에서 1을 빼고 M에 15를 더해주면 된다.\n",
    "# 마지막으로 H가 0일 경우를 추가해주면 된다.\n",
    "\n",
    "H, M = map(int, input().split())\n",
    "\n",
    "if M > 44:\n",
    "    print(H,M - 45)\n",
    "elif M < 45 and H > 0:\n",
    "    print(H - 1,M + 15)\n",
    "else:\n",
    "    print(23,M + 15)"
   ]
  },
  {
   "cell_type": "code",
   "execution_count": 1,
   "id": "e010a955-ca70-4ec0-905f-e34e1a1903da",
   "metadata": {},
   "outputs": [
    {
     "name": "stdin",
     "output_type": "stream",
     "text": [
      " 17 40\n",
      " 80\n"
     ]
    },
    {
     "name": "stdout",
     "output_type": "stream",
     "text": [
      "19 0\n"
     ]
    }
   ],
   "source": [
    "## 알아서 끝나는 시간을 분 단위로 자동적으로 계산하는 인공지능 오븐이 있다. 앞면에는 요리가 끝나는 시각을 알려 주는 디지털 시계도 있다. 훈제오리구이를 시작하는 시각과 오븐구이를 하는 데 필요한 시간이 분단위로 주어졌을 때, 오븐구이가 끝나는 시각을 계산하는 프로그램을 작성하시오.\n",
    "# 입력 : 첫째 줄에는 현재 시각이 나온다. 현재 시각은 시 A(0 <= A <= 23)와 분 B(0 <= B <= 59)가 정수로 빈칸을 사이에 두고 순서대로 주어진다. 두 번째 줄에는 요리하는데 필요한 시간 C(0 <= C <= 1,000)가 분 단위로 주어진다.\n",
    "# 출력 : 첫쨰 줄에 종료되는 시각의 시와 분을 공백을 사이에 두고 출력한다. (단, 시는 0부터 23까지의 정수, 분은 0부터 59까지의 정수이다, 디티절 시게는 23시 59분에서 1분이 지나면 0시 0분이 된다.)\n",
    "\n",
    "# A, B = map(int, input().split())\n",
    "# C = int(input())\n",
    "\n",
    "# if C + B < 60:\n",
    "#     print(A,B + C)\n",
    "# elif C + B > 60:\n",
    "#     print(A + 1,\n",
    "\n",
    "# 입력받은 C를 A와 B로 나누어 각각에 더해준다.\n",
    "# 더한 값으로 B값이 60이 넘어가면 A에 1을 더해주고, B에 60을 뺀다\n",
    "# A가 24와 같거나 커지면 24를 빼준다.\n",
    "\n",
    "A, B = map(int, input().split())\n",
    "C = int(input())\n",
    "\n",
    "A += C // 60 # A = A + (C // 60) -> 입력받은 C의 몫으로 60이 넘어가면 더하고 넘어가지 않으면 더하지 않는다\n",
    "B += C % 60 # B = B + (C % 60)\n",
    "\n",
    "if B >= 60: # C를 60으로 나누었을 때의 나머지와 B의 합이 60보다 크거나 같을 때\n",
    "    A += 1 # A값에 1을 더해준다\n",
    "    B -= 60 # A에 1을 더해주었으므로 B는 60을 빼주어야 한다.\n",
    "\n",
    "if A >= 24:\n",
    "    A -= 24\n",
    "\n",
    "print(A,B)"
   ]
  },
  {
   "cell_type": "code",
   "execution_count": 5,
   "id": "bb7147c2-308c-4410-b99c-ea6091785c6f",
   "metadata": {},
   "outputs": [
    {
     "name": "stdin",
     "output_type": "stream",
     "text": [
      " 6 2 5\n"
     ]
    },
    {
     "name": "stdout",
     "output_type": "stream",
     "text": [
      "600\n"
     ]
    }
   ],
   "source": [
    "## 1에서부터 6까지의 눈을 가진 3개의 주사위가 있다.\n",
    "## 1) 같은 눈이 3개가 나오면 10,000원 + (같은 눈) x 1,000원의 상금을 받게 된다.\n",
    "## 2) 같은 눈이 2개가 나오면 1,000원 + (같은 눈) x 100원의 상금을 받게 된다.\n",
    "## 3) 모두 다른 눈이 나오는 경우에는 (그 중 가장 큰 눈) x 100원의 상금을 받게 된다.\n",
    "## 3개 주사위의 나온 눈이 주어질 때, 상금을 계산하는 프로그램을 작성하시오.\n",
    "# 입력 : 첫째 줄에 3개의 눈이 빈칸을 사이에 두고 각각 주어진다.\n",
    "# 출력 : 첫째 줄에 게임의 상금을 출력 한다.\n",
    "\n",
    "# num1, num2, num3 = map(int, input().split())\n",
    "\n",
    "# if num1 == num2 == num3:\n",
    "#     print(10000 + (num1 * 1000))\n",
    "# elif num1 == num2:\n",
    "#     print(1000 + (num1 * 100))\n",
    "# elif num1 == num3:\n",
    "#     print(1000 + (num1 * 100))\n",
    "# elif num2 == num3:\n",
    "#     print(1000 + (num2 * 100))\n",
    "# else:\n",
    "#     print(max(num1, num2, num3) * 100)\n",
    "\n",
    "# 오래 생각하고 실제로 풀어보기.\n",
    "\n",
    "num1, num2, num3 = map(int, input().split())\n",
    "\n",
    "if num1 == num2 == num3:\n",
    "    print(10000 + (num1 * 1000))\n",
    "elif num1 == num2 or num1 == num3:\n",
    "    print(1000 + (num1 * 100))\n",
    "elif num2 == num3:\n",
    "    print(1000 + (num2 * 100))\n",
    "else:\n",
    "    print(max(num1, num2, num3) * 100)"
   ]
  },
  {
   "cell_type": "code",
   "execution_count": 6,
   "id": "685a228b-9fac-4610-9fe4-95d0a74ebd85",
   "metadata": {},
   "outputs": [],
   "source": [
    "### 반복문 ###"
   ]
  },
  {
   "cell_type": "code",
   "execution_count": 8,
   "id": "6425734c-6b57-4330-aa6b-5d97d6cc7577",
   "metadata": {},
   "outputs": [
    {
     "name": "stdin",
     "output_type": "stream",
     "text": [
      " 2\n"
     ]
    },
    {
     "name": "stdout",
     "output_type": "stream",
     "text": [
      "2 * 1 = 2\n",
      "2 * 2 = 4\n",
      "2 * 3 = 6\n",
      "2 * 4 = 8\n",
      "2 * 5 = 10\n",
      "2 * 6 = 12\n",
      "2 * 7 = 14\n",
      "2 * 8 = 16\n",
      "2 * 9 = 18\n"
     ]
    }
   ],
   "source": [
    "## N을 입력받은 뒤, 구구단 N단을 출력하는 프로그램을 작성하시오. 출력 형식에 맞춰서 출력하면 된다.\n",
    "# 입력 : 첫째 줄에 N이 주어진다. N은 1보다 크거나 같고, 9보다 작거나 같다.\n",
    "# 출력 : 출력형식과 같게 N * 1부터 N * 9까지 출력한다.\n",
    "\n",
    "N = int(input())\n",
    "\n",
    "for i in range(1,10):\n",
    "    print(f\"{N} * {i} = {N*i}\")"
   ]
  },
  {
   "cell_type": "code",
   "execution_count": 13,
   "id": "789e9259-1623-439c-9b62-d0e320ff6225",
   "metadata": {},
   "outputs": [
    {
     "name": "stdin",
     "output_type": "stream",
     "text": [
      " 5\n",
      " 1 1\n"
     ]
    },
    {
     "name": "stdout",
     "output_type": "stream",
     "text": [
      "2\n"
     ]
    },
    {
     "name": "stdin",
     "output_type": "stream",
     "text": [
      " 2 3\n"
     ]
    },
    {
     "name": "stdout",
     "output_type": "stream",
     "text": [
      "5\n"
     ]
    },
    {
     "name": "stdin",
     "output_type": "stream",
     "text": [
      " 3 4\n"
     ]
    },
    {
     "name": "stdout",
     "output_type": "stream",
     "text": [
      "7\n"
     ]
    },
    {
     "name": "stdin",
     "output_type": "stream",
     "text": [
      " 9 8\n"
     ]
    },
    {
     "name": "stdout",
     "output_type": "stream",
     "text": [
      "17\n"
     ]
    },
    {
     "name": "stdin",
     "output_type": "stream",
     "text": [
      " 5 2\n"
     ]
    },
    {
     "name": "stdout",
     "output_type": "stream",
     "text": [
      "7\n"
     ]
    }
   ],
   "source": [
    "## 두 정수 A와 B를 입력받은 다음, A + B를 출력하는 프로그램을 작성하시오.\n",
    "# 입력 : 첫쨰 줄에 테스트 케이스의 개수 T가 주어진다. 각 테스트 케이스는 한 줄로 이루어져 있으며, 각 줄에 A와 B가 주어진다. (0 < A, B < 10)\n",
    "# 출력 : 각 테스트 케이스마다 A + B를 출력한다.\n",
    "\n",
    "T = int(input())\n",
    "\n",
    "for i in range(T):\n",
    "    A, B = map(int, input().split())\n",
    "    print(A + B)\n",
    "\n",
    "# 입력부분 잘 읽어보기."
   ]
  },
  {
   "cell_type": "code",
   "execution_count": 18,
   "id": "99ec7b32-48f2-4682-a51e-8e3d1fbf8440",
   "metadata": {},
   "outputs": [
    {
     "name": "stdin",
     "output_type": "stream",
     "text": [
      " 3\n"
     ]
    },
    {
     "name": "stdout",
     "output_type": "stream",
     "text": [
      "6\n"
     ]
    }
   ],
   "source": [
    "## n이 주어졌을 때, 1부터 n까지 합을 구하는 프로그램을 작성하시오.\n",
    "# 입력 : 첫째 줄에 n (1 <= n <= 10,000)이 주어진다.\n",
    "# 출력 : 1부터 n까지 합을 출력한다.\n",
    "\n",
    "# 방법2 : 함수 사용\n",
    "# import math\n",
    "\n",
    "# n = int(input())\n",
    "\n",
    "# print(math.factorial(n))\n",
    "#----------------------#\n",
    "\n",
    "# 정수를 더해줄 변수를 설정해야 한다.\n",
    "# 기본적으로 생각하기.\n",
    "\n",
    "# 방법1 : 반복문\n",
    "n = int(input())\n",
    "sum = 0\n",
    "\n",
    "for i in range(1, n + 1):\n",
    "    sum += i\n",
    "\n",
    "print(sum)"
   ]
  },
  {
   "cell_type": "code",
   "execution_count": 22,
   "id": "5c434aa1-3f4e-4de2-a1c9-22c25bd48e6b",
   "metadata": {},
   "outputs": [
    {
     "name": "stdin",
     "output_type": "stream",
     "text": [
      " 250000\n",
      " 4\n",
      " 20000 5\n",
      " 30000 2\n",
      " 10000 6\n",
      " 5000 8\n"
     ]
    },
    {
     "name": "stdout",
     "output_type": "stream",
     "text": [
      "No\n"
     ]
    }
   ],
   "source": [
    "## 영수증에 적힌, 1) 구매한 각 물건의 가격과 개수 2) 구매한 물건들의 총 금액 을 보고, 구매한 물건의 가격과 개수로 계산한 총 금액이 영수증에 적힌 총 금액과 일치하는지 검사해보자.\n",
    "# 입력 : 첫째 줄에는 영수증에 적힌 총 금액 X가 주어진다. 둘째 줄에는 영수증에 적힌 구매한 물건의 종류의 수 N이 주어진다. 이후 N개의 줄에는 각 물건의 가격 a와 개수 b가 공백을 사이에 두고 주어진다.\n",
    "# 출력 : 구매한 물건의 가격과 개수로 계산한 총 금액이 영수증에 적힌 총 금액과 일치하면 Yes를 출력한다. 일치하지 않는다면 No를 출력한다.\n",
    "# 제한 : 1 <= X <= 1,000,000,000 / 1 <= N <= 100 / 1 <= a <= 1,000,000 / 1 <= b <= 10\n",
    "\n",
    "X = int(input())\n",
    "N = int(input())\n",
    "sum = 0\n",
    "\n",
    "for i in range(1, N + 1):\n",
    "    a,b = map(int, input().split())\n",
    "    sum += (a * b)\n",
    "\n",
    "if X == sum:\n",
    "    print(\"Yes\")\n",
    "else:\n",
    "    print(\"No\")"
   ]
  }
 ],
 "metadata": {
  "kernelspec": {
   "display_name": "Python 3 (ipykernel)",
   "language": "python",
   "name": "python3"
  },
  "language_info": {
   "codemirror_mode": {
    "name": "ipython",
    "version": 3
   },
   "file_extension": ".py",
   "mimetype": "text/x-python",
   "name": "python",
   "nbconvert_exporter": "python",
   "pygments_lexer": "ipython3",
   "version": "3.9.12"
  }
 },
 "nbformat": 4,
 "nbformat_minor": 5
}
